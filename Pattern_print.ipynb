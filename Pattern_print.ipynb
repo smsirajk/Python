{
 "cells": [
  {
   "cell_type": "code",
   "execution_count": 6,
   "id": "0fb820bd",
   "metadata": {},
   "outputs": [
    {
     "name": "stdout",
     "output_type": "stream",
     "text": [
      " *\n",
      " * *\n",
      " * * *\n",
      " * * * *\n",
      " * * * * *\n"
     ]
    }
   ],
   "source": [
    "for i in range(5):\n",
    "    for j in range(i+1):\n",
    "        print(\" *\",end=\"\")\n",
    "    print()"
   ]
  },
  {
   "cell_type": "code",
   "execution_count": 7,
   "id": "e0f6c251",
   "metadata": {},
   "outputs": [
    {
     "name": "stdout",
     "output_type": "stream",
     "text": [
      " * * * * *\n",
      " * * * *\n",
      " * * *\n",
      " * *\n",
      " *\n"
     ]
    }
   ],
   "source": [
    "for i in range(5):\n",
    "    for j in range(5-i):\n",
    "        print(\" *\",end=\"\")\n",
    "    print()"
   ]
  },
  {
   "cell_type": "code",
   "execution_count": 9,
   "id": "1a100853",
   "metadata": {},
   "outputs": [
    {
     "name": "stdout",
     "output_type": "stream",
     "text": [
      "       *\n",
      "      * *\n",
      "     * * *\n",
      "    * * * *\n",
      "   * * * * *\n"
     ]
    }
   ],
   "source": [
    "for i in range(5):\n",
    "    for j in range(-6,-i):\n",
    "        print(\" \",end=\"\")\n",
    "    for k in range(i+1):\n",
    "        print(\" *\",end=\"\")\n",
    "    print()"
   ]
  },
  {
   "cell_type": "code",
   "execution_count": 10,
   "id": "89bce5d6",
   "metadata": {},
   "outputs": [
    {
     "name": "stdout",
     "output_type": "stream",
     "text": [
      " * * * * * *\n",
      "  * * * * *\n",
      "   * * * *\n",
      "    * * *\n",
      "     * *\n",
      "      *\n"
     ]
    }
   ],
   "source": [
    "for i in range(6):\n",
    "    for j in range(i):\n",
    "        print(\" \",end=\"\")\n",
    "    for k in range(i,6):\n",
    "        print(\" *\",end=\"\")\n",
    "    print()"
   ]
  },
  {
   "cell_type": "code",
   "execution_count": 13,
   "id": "86ad5836",
   "metadata": {},
   "outputs": [
    {
     "name": "stdout",
     "output_type": "stream",
     "text": [
      "1 \n",
      "2 3 \n",
      "4 5 6 \n",
      "7 8 9 10 \n",
      "11 12 13 14 15 \n"
     ]
    }
   ],
   "source": [
    "num=1\n",
    "for i in range(5):\n",
    "    for j in range(i+1):\n",
    "        print(num,end=\" \")\n",
    "        num=num+1\n",
    "    print()"
   ]
  },
  {
   "cell_type": "code",
   "execution_count": null,
   "id": "27405cdf",
   "metadata": {},
   "outputs": [],
   "source": []
  },
  {
   "cell_type": "code",
   "execution_count": 14,
   "id": "50800773",
   "metadata": {},
   "outputs": [
    {
     "name": "stdout",
     "output_type": "stream",
     "text": [
      "1 \n",
      "1 2 \n",
      "1 2 3 \n",
      "1 2 3 4 \n",
      "1 2 3 4 5 \n",
      "1 2 3 4 5 6 \n"
     ]
    }
   ],
   "source": [
    "num=1\n",
    "for i in range(6):\n",
    "    for j in range(i+1):\n",
    "        print(num,end=\" \")\n",
    "        num=num+1\n",
    "    print()\n",
    "    num=1"
   ]
  },
  {
   "cell_type": "code",
   "execution_count": 23,
   "id": "7e9c1226",
   "metadata": {},
   "outputs": [
    {
     "name": "stdout",
     "output_type": "stream",
     "text": [
      "              1 \n",
      "            2 1 \n",
      "          3 2 1 \n",
      "        4 3 2 1 \n",
      "      5 4 3 2 1 \n",
      "    6 5 4 3 2 1 \n"
     ]
    }
   ],
   "source": [
    "\n",
    "for i in range(6):\n",
    "    count=0\n",
    "    for j in range(-7,-i):\n",
    "        print(\" \",end=\" \")\n",
    "    for s in range(i+1):\n",
    "        count=count+1\n",
    "    num=count\n",
    "    for k in range(i+1):\n",
    "        print(num,end=\" \")\n",
    "        num=num-1\n",
    "            \n",
    "    print()\n",
    "    "
   ]
  },
  {
   "cell_type": "code",
   "execution_count": 24,
   "id": "aaa036fe",
   "metadata": {},
   "outputs": [
    {
     "name": "stdout",
     "output_type": "stream",
     "text": [
      "Pattern of Alphabets: \n",
      "A \n",
      "B C \n",
      "D E F \n",
      "G H I J \n",
      "K L M N O \n"
     ]
    }
   ],
   "source": [
    "print(\"Pattern of Alphabets: \")\n",
    "val = 65\n",
    "for i in range(5):\n",
    "    for j in range(i+1):\n",
    "        ch = chr(val)\n",
    "        print(ch, end=\" \")\n",
    "        val = val+1\n",
    "    print()"
   ]
  },
  {
   "cell_type": "code",
   "execution_count": 25,
   "id": "f61e0487",
   "metadata": {},
   "outputs": [
    {
     "name": "stdout",
     "output_type": "stream",
     "text": [
      "Half Pyramid Pattern of Alphabets: \n",
      "A \n",
      "B B \n",
      "C C C \n",
      "D D D D \n",
      "E E E E E \n"
     ]
    }
   ],
   "source": [
    "print(\"Half Pyramid Pattern of Alphabets: \")\n",
    "val = 65\n",
    "for i in range(5):\n",
    "    for j in range(i+1):\n",
    "        ch = chr(val)\n",
    "        print(ch, end=\" \")\n",
    "    val = val+1\n",
    "    print()"
   ]
  },
  {
   "cell_type": "code",
   "execution_count": 26,
   "id": "e924fa94",
   "metadata": {},
   "outputs": [
    {
     "name": "stdout",
     "output_type": "stream",
     "text": [
      "Inverted Half Pyramid of Alphabets: \n",
      "        A \n",
      "      B A \n",
      "    C B A \n",
      "  D C B A \n",
      "E D C B A \n"
     ]
    }
   ],
   "source": [
    "print(\"Inverted Half Pyramid of Alphabets: \")\n",
    "decr = 8\n",
    "for i in range(5):\n",
    "    count = 0\n",
    "    for k in range(decr):\n",
    "        print(end=\" \")\n",
    "    decr = decr - 2\n",
    "    for j in range(i):\n",
    "        count = count + 1\n",
    "    num = count+65\n",
    "    ch = chr(num)\n",
    "    for j in range(i+1):\n",
    "        print(ch, end=\" \")\n",
    "        num = num - 1\n",
    "        ch = chr(num)\n",
    "    print()"
   ]
  }
 ],
 "metadata": {
  "kernelspec": {
   "display_name": "Python 3 (ipykernel)",
   "language": "python",
   "name": "python3"
  },
  "language_info": {
   "codemirror_mode": {
    "name": "ipython",
    "version": 3
   },
   "file_extension": ".py",
   "mimetype": "text/x-python",
   "name": "python",
   "nbconvert_exporter": "python",
   "pygments_lexer": "ipython3",
   "version": "3.11.4"
  }
 },
 "nbformat": 4,
 "nbformat_minor": 5
}
